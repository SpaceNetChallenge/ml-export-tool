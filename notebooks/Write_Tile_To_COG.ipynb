{
 "cells": [
  {
   "cell_type": "markdown",
   "metadata": {},
   "source": [
    "# Write tiles to COG Experimentation"
   ]
  },
  {
   "cell_type": "markdown",
   "metadata": {},
   "source": [
    "## Define Raster Tile Template"
   ]
  },
  {
   "cell_type": "code",
   "execution_count": null,
   "metadata": {},
   "outputs": [],
   "source": [
    "\"\"\"tests ml_export.tile_generator.base\"\"\"\n",
    "\n",
    "import os\n",
    "import pytest\n",
    "## Note, for mac osx compatability import something from shapely.geometry before importing fiona or geopandas\n",
    "## https://github.com/Toblerity/Shapely/issues/553  * Import shapely before rasterio or fioana\n",
    "from shapely import geometry\n",
    "import mercantile\n",
    "from rio_tiler import main\n",
    "import numpy as np\n",
    "from ml_export import tile_generator, tile_aggregator\n",
    "import rasterio\n",
    "from ml_export.tile_class_generator import TileClassDataset as TDC\n",
    "from ml_export.ml_tools.mlbase import ml_tf_serving\n",
    "%load_ext autoreload\n",
    "%autoreload 2\n"
   ]
  },
  {
   "cell_type": "code",
   "execution_count": null,
   "metadata": {},
   "outputs": [],
   "source": []
  },
  {
   "cell_type": "code",
   "execution_count": null,
   "metadata": {},
   "outputs": [],
   "source": [
    "## Define Example Geometry\n",
    "\n",
    "tile_obj = mercantile.tile(39.299515932798386, -6.080908028740757 , 12)\n",
    "\n",
    "geom = geometry.box(-115.24, 36.1, -115.2, 36.2)\n",
    "zoom_level = 12\n",
    "\n",
    "large_tile_object_list = tile_generator.get_tile_list(geom, zoom=zoom_level)\n",
    "print(\"{} z{} Tiles identified\".format(len(large_tile_object_list), zoom_level))"
   ]
  },
  {
   "cell_type": "code",
   "execution_count": null,
   "metadata": {},
   "outputs": [],
   "source": []
  },
  {
   "cell_type": "code",
   "execution_count": null,
   "metadata": {},
   "outputs": [],
   "source": [
    "%%time\n",
    "import os\n",
    "access_token = os.getenv('MAPBOX_ACCESS_TOKEN')\n",
    "print(access_token)\n",
    "raster_tile_server_template = \"https://a.tiles.mapbox.com/v4/mapbox.satellite/{z}/{x}/{y}.jpg?access_token=\"+access_token\n",
    "file_name = \"/Users/dlindenbaum/cosmiQGit/ml-export-tool/tests/fixtures/my-bucket/spacenet_test/vegas_test_inf_1.tiff\"\n",
    "api_location= 'http://localhost:8501/v1/models/looking_glass_export:predict'\n",
    "api_location = 'http://gputest01.dev.labs.internal:8501/v1/models/looking_glass_export:predict'\n",
    "large_tile_object = mercantile.tile(-115.24, 36.1986, 14) #las vegas\n",
    "small_tile_zoom=18\n",
    "super_res_tile_zoom = 18\n",
    "mltf_obj = ml_tf_serving(api_location=api_location, output_num_channels=1)\n",
    "tile_aggregator.build_cog_from_tiles_gen(file_name,\n",
    "                             large_tile_object,\n",
    "                             raster_tile_server_template,\n",
    "                             desired_small_tile_zoom_level=small_tile_zoom,\n",
    "                             desired_super_res_tile_zoom_level=super_res_tile_zoom,\n",
    "                             cog=False,\n",
    "                             indexes=None,\n",
    "                             tile_size=256,\n",
    "                             batch_size=5,\n",
    "                             num_workers=4,\n",
    "                             tile_dataset_class=TDC,\n",
    "                                            detection_module=mltf_obj\n",
    "                             )"
   ]
  },
  {
   "cell_type": "code",
   "execution_count": null,
   "metadata": {},
   "outputs": [],
   "source": [
    "%%time\n",
    "access_token = \"pk.eyJ1IjoiZGF2aWRsaW5kZW5iYXVtIiwiYSI6ImNqb2QxbGQxbzB6amszd3J3bGV0ODJ4ODkifQ.yOQGasKWIF4sot6en8z8Eg\"\n",
    "raster_tile_server_template = \"https://a.tiles.mapbox.com/v4/mapbox.satellite/{z}/{x}/{y}.jpg?access_token=\"+access_token\n",
    "file_name = \"/Users/dlindenbaum/cosmiQGit/ml-export-tool/tests/fixtures/my-bucket/spacenet_test/vegas_test.tiff\"\n",
    "\n",
    "large_tile_object = mercantile.tile(-115.24, 36.1986, 12) #las vegas\n",
    "small_tile_zoom=18\n",
    "super_res_tile_zoom = 18\n",
    "\n",
    "tile_aggregator.build_cog_from_tiles_gen(file_name,\n",
    "                             large_tile_object,\n",
    "                             raster_tile_server_template,\n",
    "                             desired_small_tile_zoom_level=small_tile_zoom,\n",
    "                             desired_super_res_tile_zoom_level=super_res_tile_zoom,\n",
    "                             cog=False,\n",
    "                             indexes=None,\n",
    "                             tile_size=256,\n",
    "                             batch_size=4,\n",
    "                             num_workers=4,\n",
    "                             tile_dataset_class=TDC\n",
    "                             )"
   ]
  }
 ],
 "metadata": {
  "kernelspec": {
   "display_name": "Python 3",
   "language": "python",
   "name": "python3"
  },
  "language_info": {
   "codemirror_mode": {
    "name": "ipython",
    "version": 3
   },
   "file_extension": ".py",
   "mimetype": "text/x-python",
   "name": "python",
   "nbconvert_exporter": "python",
   "pygments_lexer": "ipython3",
   "version": "3.6.6"
  }
 },
 "nbformat": 4,
 "nbformat_minor": 2
}
